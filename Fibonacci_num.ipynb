{
 "cells": [
  {
   "cell_type": "code",
   "execution_count": 7,
   "id": "8feb82c8-bd61-48b1-89c0-e0edda004828",
   "metadata": {},
   "outputs": [
    {
     "name": "stdin",
     "output_type": "stream",
     "text": [
      "Enter number: 2\n"
     ]
    },
    {
     "name": "stdout",
     "output_type": "stream",
     "text": [
      "Fibonacci sequence:\n",
      "0\n",
      "1\n"
     ]
    }
   ],
   "source": [
    "nterms = int(input(\"Enter number:\"))\n",
    "n1, n2 = 0, 1 \n",
    "count = 0\n",
    "\n",
    "if nterms <= 0: \n",
    "    print(\"Please enter a positive integer\") \n",
    "elif nterms == 1: \n",
    "    print(\"Fibonacci sequence upto\",nterms,\":\") \n",
    "    print(n1) \n",
    "else: \n",
    "    print(\"Fibonacci sequence:\") \n",
    "    while count < nterms:\n",
    "          print(n1)\n",
    "          nth = n1 + n2 # update values \n",
    "          n1 = n2 \n",
    "          n2 = nth \n",
    "          count += 1"
   ]
  },
  {
   "cell_type": "code",
   "execution_count": null,
   "id": "908a8603-e3e6-4a15-b068-86920a551aa4",
   "metadata": {},
   "outputs": [],
   "source": []
  }
 ],
 "metadata": {
  "kernelspec": {
   "display_name": "Python 3 (ipykernel)",
   "language": "python",
   "name": "python3"
  },
  "language_info": {
   "codemirror_mode": {
    "name": "ipython",
    "version": 3
   },
   "file_extension": ".py",
   "mimetype": "text/x-python",
   "name": "python",
   "nbconvert_exporter": "python",
   "pygments_lexer": "ipython3",
   "version": "3.12.0"
  }
 },
 "nbformat": 4,
 "nbformat_minor": 5
}
